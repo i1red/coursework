{
 "cells": [
  {
   "cell_type": "code",
   "execution_count": 1,
   "metadata": {},
   "outputs": [],
   "source": [
    "import os\n",
    "os.environ['TF_CPP_MIN_LOG_LEVEL'] = '3' "
   ]
  },
  {
   "cell_type": "code",
   "execution_count": 2,
   "metadata": {},
   "outputs": [],
   "source": [
    "import numpy as np\n",
    "\n",
    "from PIL import Image\n",
    "\n",
    "from tensorflow.keras.models import load_model"
   ]
  },
  {
   "cell_type": "code",
   "execution_count": 3,
   "metadata": {},
   "outputs": [
    {
     "name": "stdout",
     "output_type": "stream",
     "text": [
      "WARNING:tensorflow:No training configuration found in the save file, so the model was *not* compiled. Compile it manually.\n"
     ]
    },
    {
     "data": {
      "text/plain": [
       "[<KerasTensor: shape=(None, 100) dtype=float32 (created by layer 'input_4')>,\n",
       " <KerasTensor: shape=(None, 1) dtype=float32 (created by layer 'input_3')>]"
      ]
     },
     "execution_count": 3,
     "metadata": {},
     "output_type": "execute_result"
    }
   ],
   "source": [
    "generator = load_model(os.path.join('models', 'generator_200.h5'))"
   ]
  },
  {
   "cell_type": "code",
   "execution_count": 4,
   "metadata": {},
   "outputs": [],
   "source": [
    "CLASS_MAP = ['T-shirt/top', 'Trouser', 'Pullover', 'Dress', 'Coat', 'Sandal', 'Shirt', 'Sneaker', 'Bag', 'Ankle boot']\n",
    "INVERSE_CLASS_MAP = {class_: index for index, class_ in enumerate(CLASS_MAP)}\n",
    "\n",
    "def get_image_generator(generator):\n",
    "    def generate_images(str_label, images_number):\n",
    "        hidden_dim = generator.input[0].shape[1]\n",
    "        generated = generator.predict([np.random.normal(size=(images_number, hidden_dim)), np.repeat(INVERSE_CLASS_MAP[str_label], images_number)])\n",
    "        generated = generated * 127.5 + 127.5\n",
    "        return generated.astype(np.uint8).reshape(generated.shape[:3])\n",
    "    \n",
    "    return generate_images"
   ]
  },
  {
   "cell_type": "code",
   "execution_count": 5,
   "metadata": {},
   "outputs": [],
   "source": [
    "genrate_images = get_image_generator(generator)"
   ]
  },
  {
   "cell_type": "code",
   "execution_count": 7,
   "metadata": {},
   "outputs": [],
   "source": [
    "result = Image.fromarray(255 - np.hstack([np.vstack([np.pad(image_arr, 2) for image_arr in genrate_images(class_, 5)]) for class_ in CLASS_MAP]))\n",
    "result.save('result.png')"
   ]
  },
  {
   "cell_type": "code",
   "execution_count": null,
   "metadata": {},
   "outputs": [],
   "source": []
  }
 ],
 "metadata": {
  "kernelspec": {
   "display_name": "Python 3",
   "language": "python",
   "name": "python3"
  },
  "language_info": {
   "codemirror_mode": {
    "name": "ipython",
    "version": 3
   },
   "file_extension": ".py",
   "mimetype": "text/x-python",
   "name": "python",
   "nbconvert_exporter": "python",
   "pygments_lexer": "ipython3",
   "version": "3.8.5"
  }
 },
 "nbformat": 4,
 "nbformat_minor": 4
}
